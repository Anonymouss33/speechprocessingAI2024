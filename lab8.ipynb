{
  "nbformat": 4,
  "nbformat_minor": 0,
  "metadata": {
    "colab": {
      "provenance": []
    },
    "kernelspec": {
      "name": "python3",
      "display_name": "Python 3"
    },
    "language_info": {
      "name": "python"
    }
  },
  "cells": [
    {
      "cell_type": "code",
      "source": [
        "!pip install pysptk\n"
      ],
      "metadata": {
        "colab": {
          "base_uri": "https://localhost:8080/"
        },
        "id": "vSFZO-kj67rg",
        "outputId": "dbcead5a-71b1-4b4a-8353-71b9e2a2a887"
      },
      "execution_count": 4,
      "outputs": [
        {
          "output_type": "stream",
          "name": "stdout",
          "text": [
            "Collecting pysptk\n",
            "  Downloading pysptk-0.2.2.tar.gz (421 kB)\n",
            "\u001b[2K     \u001b[90m━━━━━━━━━━━━━━━━━━━━━━━━━━━━━━━━━━━━━━━━\u001b[0m \u001b[32m421.3/421.3 kB\u001b[0m \u001b[31m3.0 MB/s\u001b[0m eta \u001b[36m0:00:00\u001b[0m\n",
            "\u001b[?25h  Installing build dependencies ... \u001b[?25l\u001b[?25hdone\n",
            "  Getting requirements to build wheel ... \u001b[?25l\u001b[?25hdone\n",
            "  Preparing metadata (pyproject.toml) ... \u001b[?25l\u001b[?25hdone\n",
            "Requirement already satisfied: scipy in /usr/local/lib/python3.10/dist-packages (from pysptk) (1.11.4)\n",
            "Requirement already satisfied: decorator in /usr/local/lib/python3.10/dist-packages (from pysptk) (4.4.2)\n",
            "Requirement already satisfied: cython>=0.28.0 in /usr/local/lib/python3.10/dist-packages (from pysptk) (3.0.10)\n",
            "Requirement already satisfied: numpy<1.28.0,>=1.21.6 in /usr/local/lib/python3.10/dist-packages (from scipy->pysptk) (1.25.2)\n",
            "Building wheels for collected packages: pysptk\n",
            "  Building wheel for pysptk (pyproject.toml) ... \u001b[?25l\u001b[?25hdone\n",
            "  Created wheel for pysptk: filename=pysptk-0.2.2-cp310-cp310-linux_x86_64.whl size=1235510 sha256=32d5573ee8d9c908c0672cd16f716726ed8efa002a28158be2bfac44c202bb14\n",
            "  Stored in directory: /root/.cache/pip/wheels/87/ef/11/e708873d0361690e25e06ccfd1d793ff4549a91bb48ee58ca3\n",
            "Successfully built pysptk\n",
            "Installing collected packages: pysptk\n",
            "Successfully installed pysptk-0.2.2\n"
          ]
        }
      ]
    },
    {
      "cell_type": "code",
      "source": [],
      "metadata": {
        "id": "rHmRm5HP9Uvb"
      },
      "execution_count": null,
      "outputs": []
    },
    {
      "cell_type": "code",
      "source": [
        "import numpy as np\n",
        "import librosa\n",
        "from pysptk import lpc\n",
        "from tensorflow.keras.models import Sequential\n",
        "from tensorflow.keras.layers import LSTM, Dense, Bidirectional\n",
        "import soundfile as sf\n",
        "\n",
        "# Load audio file using librosa\n",
        "def load_audio(file_path):\n",
        "    y, sr = librosa.load(file_path, sr=None)\n",
        "    return y, sr\n",
        "\n",
        "# Function to extract features from audio\n",
        "def extract_features(y, sr):\n",
        "    spectrogram = np.abs(librosa.stft(y))\n",
        "    mfccs = librosa.feature.mfcc(y=y, sr=sr, n_mfcc=13)\n",
        "    # LPC coefficients using pysptk.lpc\n",
        "    lpc_coeffs = lpc(y, order=12)\n",
        "    # Repeat LPC coefficients along the time axis to match dimensions of other features\n",
        "    lpc_coeffs = np.repeat(lpc_coeffs[:, np.newaxis], spectrogram.shape[1], axis=1)\n",
        "    return spectrogram, mfccs, lpc_coeffs\n",
        "\n",
        "# Function to build LSTM model\n",
        "def build_model(input_shape, output_vocab_size):\n",
        "    model = Sequential([\n",
        "        Bidirectional(LSTM(units=64, return_sequences=True), input_shape=input_shape),\n",
        "        LSTM(units=64, return_sequences=True),\n",
        "        Dense(units=output_vocab_size, activation='softmax')\n",
        "    ])\n",
        "    return model\n",
        "\n",
        "# Function to segment phonemes\n",
        "def segment_phonemes(phoneme_sequences, target_word):\n",
        "    # Placeholder implementation, simply return phoneme sequences for now\n",
        "    return phoneme_sequences\n",
        "\n",
        "# Function to synthesize speech\n",
        "def synthesize_speech(segmented_phonemes, model):\n",
        "    # Placeholder implementation, simply return zeros for now\n",
        "    synthesized_speech = np.zeros((1000,))\n",
        "    return synthesized_speech\n",
        "\n",
        "# Main function\n",
        "def main():\n",
        "    #  file path\n",
        "    file_path = '/content/bwr.unknown'\n",
        "\n",
        "    # Load audio file\n",
        "    y, sr = load_audio(file_path)\n",
        "\n",
        "    # Extract features from audio\n",
        "    spectrogram, mfccs, lpc_coeffs = extract_features(y, sr)\n",
        "\n",
        "    # Concatenate features\n",
        "    features = np.concatenate((spectrogram, mfccs, lpc_coeffs), axis=0)\n",
        "\n",
        "    # Reshape features to match the expected input shape of the model\n",
        "    features = np.expand_dims(features, axis=0)  # Add batch dimension\n",
        "    features = np.transpose(features, axes=(0, 2, 1))  # Swap axes to match (batch_size, timesteps, features)\n",
        "\n",
        "    # Assume phoneme sequences are obtained from some source\n",
        "    phoneme_sequences = np.random.randint(0, 10, size=(100, 50))  # Example shape\n",
        "\n",
        "    # Build model\n",
        "    input_shape = features.shape[1:]\n",
        "    output_vocab_size = 10  # Example vocabulary size\n",
        "    model = build_model(input_shape, output_vocab_size)\n",
        "\n",
        "    # Segment phonemes for the target word\n",
        "    target_word = \"Bharat\"\n",
        "    segmented_phonemes = segment_phonemes(phoneme_sequences, target_word)\n",
        "\n",
        "    # Synthesize speech for the target word\n",
        "    synthesized_speech = synthesize_speech(segmented_phonemes, model)\n",
        "\n",
        "    # Save synthesized speech to a WAV file\n",
        "    sf.write('/content/synthesized_speech.wav', synthesized_speech, sr)\n",
        "\n",
        "    # Print message indicating speech synthesis is complete\n",
        "    print(\"Speech synthesis complete.\")\n",
        "\n",
        "# Run the main function\n",
        "if __name__ == \"__main__\":\n",
        "    main()\n"
      ],
      "metadata": {
        "colab": {
          "base_uri": "https://localhost:8080/"
        },
        "id": "WZBUrWvm8uaa",
        "outputId": "a3d6f31e-751c-4c27-9836-bc495cd42e53"
      },
      "execution_count": 12,
      "outputs": [
        {
          "output_type": "stream",
          "name": "stderr",
          "text": [
            "<ipython-input-12-dbd799612f9b>:10: UserWarning: PySoundFile failed. Trying audioread instead.\n",
            "  y, sr = librosa.load(file_path, sr=None)\n"
          ]
        },
        {
          "output_type": "stream",
          "name": "stdout",
          "text": [
            "Speech synthesis complete.\n"
          ]
        }
      ]
    }
  ]
}